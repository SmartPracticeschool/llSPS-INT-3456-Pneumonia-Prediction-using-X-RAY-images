import numpy as np
import matplotlib.pyplot as plt
import os
from PIL import Image
from keras.models import load_model
import keras
from keras.models import Sequential
from keras.layers import Conv2D
from keras.layers import MaxPooling2D
from keras.layers import Flatten
from keras.layers import Dense
from keras.preprocessing.image import ImageDataGenerator, load_img

print(os.listdir("E:\\AI_Pneumonia_Prediction\\ChestXRay\\chest_xray"))

train_folder= "E:\\AI_Pneumonia_Prediction\\ChestXRay\\chest_xray\\train"
test_folder="E:\\AI_Pneumonia_Prediction\\ChestXRay\\chest_xray\\test"
val_folder="E:\\AI_Pneumonia_Prediction\\ChestXRay\\chest_xray\\val"

train_n="E:\\AI_Pneumonia_Prediction\\ChestXRay\\chest_xray\\train\\NORMAL"
train_p="E:\\AI_Pneumonia_Prediction\\ChestXRay\\chest_xray\\train\\PNEUMONIA"
print(len(os.listdir(train_n)))
norm_load=Image.open("E:\\AI_Pneumonia_Prediction\\ChestXRay\\chest_xray\\train\\PNEUMONIA\\person3_bacteria_11.jpeg")

f=plt.figure(figsize=(10,6))
a1= f.add_subplot(1,2,1)
img_plot=plt.imshow(norm_load)
a1 = plt.title("Normal")
cnn = Sequential()

# Convolution
cnn.add(Conv2D(32, (3, 3), activation="relu", input_shape=(64, 64, 3)))

#Pooling
cnn.add(MaxPooling2D(pool_size = (2, 2)))

# 2nd Convolution
cnn.add(Conv2D(32, (3, 3), activation="relu"))

# 2nd Pooling layer
cnn.add(MaxPooling2D(pool_size = (2, 2)))

# Flatten the layer
cnn.add(Flatten())

# Fully Connected Layers
cnn.add(Dense(activation = 'relu', units = 128))
cnn.add(Dense(activation = 'sigmoid', units = 1))

# Compile the Neural network
cnn.compile(optimizer = 'adam', loss = 'binary_crossentropy', metrics = ['accuracy'])
train_datagen = ImageDataGenerator(rescale = 1./255, shear_range=0.2, zoom_range = 0.2, horizontal_flip = True)
test_datagen =  ImageDataGenerator(rescale= 1./255)

training_set = train_datagen.flow_from_directory("E:\\AI_Pneumonia_Prediction\\ChestXRay\\chest_xray\\train",target_size=(64,64),batch_size= 32,class_mode= 'binary')
test_set= test_datagen.flow_from_directory("E:\\AI_Pneumonia_Prediction\\ChestXRay\\chest_xray\\test",target_size= (64,64),batch_size= 32,class_mode='binary')
validation_generator= test_datagen.flow_from_directory("E:\\AI_Pneumonia_Prediction\\ChestXRay\\chest_xray\\val", target_size=(64,64),batch_size=32,class_mode='binary')

cnn.summary()

cnn_model = cnn.fit_generator(training_set,steps_per_epoch = 5216,epochs = 5,validation_data = training_set,validation_steps = 8)

# Accuracy 
plt.plot(cnn_model.history['accuracy'])
plt.plot(cnn_model.history['val_accuracy'])
plt.title('Model Accuracy')
plt.ylabel('Accuracy')
plt.xlabel('Epoch')
plt.legend(['Training set', 'Validation set'], loc='upper left')
plt.show()

# Loss 
plt.plot(cnn_model.history['val_loss'])
plt.plot(cnn_model.history['loss'])
plt.title('Model Loss')
plt.ylabel('Loss')
plt.xlabel('Epoch')
plt.legend(['Training set', 'Test set'], loc='upper left')
plt.show()

test_accu=cnn.evaluate_generator(test_set, steps=624)
print('The testing accuracy is :',test_accu[1]*100, '%')

# load model
model = load_model("cnn.h5")
img_path = 'E:\\AI_Pneumonia_Prediction\\ChestXRay\\chest_xray\\NORMAL\\NORMAL2-IM-1440-0001.jpg'    

from keras.models import load_model
from keras.preprocessing import image
import numpy as np

img_width, img_height = 64, 64
# load the model we saved
model = load_model('cnn.h5')
model.compile(loss='binary_crossentropy',optimizer='adam',metrics=['accuracy'])

# predicting images
img = image.load_img("E:\\AI_Pneumonia_Prediction\\ChestXRay\\chest_xray\\test\\NORMAL\\NORMAL2-IM-0289-0001.jpeg", target_size=(img_width, img_height))
x = image.img_to_array(img)
x = np.expand_dims(x, axis=0)
images = np.vstack([x])
classes = model.predict_classes(images, batch_size=1)
print (classes[0])
